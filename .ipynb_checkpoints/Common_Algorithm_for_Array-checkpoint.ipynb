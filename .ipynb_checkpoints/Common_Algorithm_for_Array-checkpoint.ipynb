{
 "cells": [
  {
   "cell_type": "markdown",
   "metadata": {},
   "source": [
    "# 1. Binary Search"
   ]
  },
  {
   "cell_type": "code",
   "execution_count": 1,
   "metadata": {},
   "outputs": [],
   "source": [
    "def binarySearch(target, sortedLyst):\n",
    "    left = 0\n",
    "    right = len(sortedLyst) - 1\n",
    "    while left <= right:\n",
    "        midpoint = (left + right)//2\n",
    "        if target == sortedLyst[midpoint]:\n",
    "            return midpoint\n",
    "        elif target < sortedLyst[midpoint]:\n",
    "            right = midpoint - 1\n",
    "        else:\n",
    "            left = midpoint + 1\n",
    "    return -1"
   ]
  },
  {
   "cell_type": "code",
   "execution_count": 2,
   "metadata": {},
   "outputs": [
    {
     "data": {
      "text/plain": [
       "4"
      ]
     },
     "execution_count": 2,
     "metadata": {},
     "output_type": "execute_result"
    }
   ],
   "source": [
    "binarySearch(5, [1,2,3,4,5,6,7,8,9])"
   ]
  },
  {
   "cell_type": "markdown",
   "metadata": {},
   "source": [
    "## a variation of BinarySearch\n",
    "Suppose an array of length n sorted in ascending order is rotated between 1 and n times. For example, the array nums = [0,1,2,4,5,6,7] might become:\n",
    "\n",
    "[4,5,6,7,0,1,2] if it was rotated 4 times.\n",
    "[0,1,2,4,5,6,7] if it was rotated 7 times.\n",
    "Notice that rotating an array [a[0], a[1], a[2], ..., a[n-1]] 1 time results in the array [a[n-1], a[0], a[1], a[2], ..., a[n-2]].\n",
    "\n",
    "Given the sorted rotated array nums of unique elements, return the minimum element of this array.\n",
    "\n",
    "You must write an algorithm that runs in O(log n) time."
   ]
  },
  {
   "cell_type": "code",
   "execution_count": null,
   "metadata": {},
   "outputs": [],
   "source": [
    "    def findMin(self, nums: List[int]) -> int:\n",
    "        # set left and right bounds\n",
    "        left, right = 0, len(nums)-1\n",
    "                \n",
    "        # left and right both converge to the minimum index;\n",
    "        # DO NOT use left <= right because that would loop forever\n",
    "        while left < right:\n",
    "            # find the middle value between the left and right bounds (their average);\n",
    "\t\t\t# can equivalently do: mid = left + (right - left) // 2,\n",
    "\t\t\t# if we are concerned left + right would cause overflow (which would occur\n",
    "\t\t\t# if we are searching a massive array using a language like Java or C that has\n",
    "\t\t\t# fixed size integer types)\n",
    "            mid = (left + right) // 2\n",
    "                        \n",
    "            # the main idea for our checks is to converge the left and right bounds on the start\n",
    "            # of the pivot, and never disqualify the index for a possible minimum value.\n",
    "\n",
    "            # in normal binary search, we have a target to match exactly,\n",
    "            # and would have a specific branch for if nums[mid] == target.\n",
    "            # we do not have a specific target here, so we just have simple if/else.\n",
    "                        \n",
    "            if nums[mid] > nums[right]:\n",
    "                # we KNOW the pivot must be to the right of the middle:\n",
    "                # if nums[mid] > nums[right], we KNOW that the\n",
    "                # pivot/minimum value must have occurred somewhere to the right\n",
    "                # of mid, which is why the values wrapped around and became smaller.\n",
    "\n",
    "                # example:  [3,4,5,6,7,8,9,1,2] \n",
    "                # in the first iteration, when we start with mid index = 4, right index = 9.\n",
    "                # if nums[mid] > nums[right], we know that at some point to the right of mid,\n",
    "                # the pivot must have occurred, which is why the values wrapped around\n",
    "                # so that nums[right] is less then nums[mid]\n",
    "\n",
    "                # we know that the number at mid is greater than at least\n",
    "                # one number to the right, so we can use mid + 1 and\n",
    "                # never consider mid again; we know there is at least\n",
    "                # one value smaller than it on the right\n",
    "                left = mid + 1\n",
    "\n",
    "            else:\n",
    "                # here, nums[mid] <= nums[right]:\n",
    "                # we KNOW the pivot must be at mid or to the left of mid:\n",
    "                # if nums[mid] <= nums[right], we KNOW that the pivot was not encountered\n",
    "                # to the right of middle, because that means the values would wrap around\n",
    "                # and become smaller (which is caught in the above if statement).\n",
    "                # this leaves the possible pivot point to be at index <= mid.\n",
    "                            \n",
    "                # example: [8,9,1,2,3,4,5,6,7]\n",
    "                # in the first iteration, when we start with mid index = 4, right index = 9.\n",
    "                # if nums[mid] <= nums[right], we know the numbers continued increasing to\n",
    "                # the right of mid, so they never reached the pivot and wrapped around.\n",
    "                # therefore, we know the pivot must be at index <= mid.\n",
    "\n",
    "                # we know that nums[mid] <= nums[right].\n",
    "                # therefore, we know it is possible for the mid index to store a smaller\n",
    "                # value than at least one other index in the list (at right), so we do\n",
    "                # not discard it by doing right = mid - 1. it still might have the minimum value.\n",
    "                right = mid\n",
    "                \n",
    "        # at this point, left and right converge to a single index (for minimum value) since\n",
    "        # our if/else forces the bounds of left/right to shrink each iteration:\n",
    "\n",
    "        # when left bound increases, it does not disqualify a value\n",
    "        # that could be smaller than something else (we know nums[mid] > nums[right],\n",
    "        # so nums[right] wins and we ignore mid and everything to the left of mid).\n",
    "\n",
    "        # when right bound decreases, it also does not disqualify a\n",
    "        # value that could be smaller than something else (we know nums[mid] <= nums[right],\n",
    "        # so nums[mid] wins and we keep it for now).\n",
    "\n",
    "        # so we shrink the left/right bounds to one value,\n",
    "        # without ever disqualifying a possible minimum\n",
    "        return nums[left]"
   ]
  },
  {
   "cell_type": "markdown",
   "metadata": {},
   "source": [
    "# 2. Merge Sort"
   ]
  },
  {
   "cell_type": "code",
   "execution_count": 1,
   "metadata": {},
   "outputs": [],
   "source": [
    "def merge(lyst, copyBuffer, low, middle, high):\n",
    "    '''\n",
    "    merge two sorted lyst\n",
    "    '''\n",
    "    # index of list 1 (has indexes of ordered numbers), range from low - middle\n",
    "    i1 = low\n",
    "    # index of list 2 (has indexes of ordered numbers), range from middle + 1 - high\n",
    "    i2 = middle + 1\n",
    "    \n",
    "    for i in range(low, high+1):\n",
    "        \n",
    "        if i1 > middle:\n",
    "            # when i1 > middle: the first list exhausted, so fill list2 number \n",
    "            copyBuffer[i] = lyst[i2]\n",
    "            i2 += 1\n",
    "        elif i2>high:\n",
    "            # when i2 > high: the second list  exhausted, so fill list1 number\n",
    "            copyBuffer[i] = lyst[i1]\n",
    "            i1 += 1\n",
    "        elif lyst[i1] < lyst[i2]:\n",
    "            # if the number from list 1 is smaller, then fill this number and move the index of list1 to next\n",
    "            copyBuffer[i] = lyst[i1]\n",
    "            i1 += 1\n",
    "        else:\n",
    "            # if the number from list 2 is smaller, then fill this number and move the index of list2 to next\n",
    "            copyBuffer[i] = lyst[i2]\n",
    "            i2 += 1\n",
    "    for i in range(low, high + 1):\n",
    "        lyst[i] = copyBuffer[i]\n",
    "    \n",
    "    \n",
    "def mergeSortHelper(lyst, copyBuffer, low, high):\n",
    "    # recursively split lyst into two even list, \n",
    "    if low < high:\n",
    "        middle = (low + high)//2\n",
    "        mergeSortHelper(lyst, copyBuffer, low, middle)\n",
    "        mergeSortHelper(lyst, copyBuffer, middle+1, high)\n",
    "        merge(lyst, copyBuffer, low, middle, high)\n",
    "        \n",
    "def mergeSort(lyst):\n",
    "    copyBuffer = [0]*len(lyst)\n",
    "    mergeSortHelper(lyst, copyBuffer, 0, len(lyst)-1)"
   ]
  },
  {
   "cell_type": "code",
   "execution_count": 5,
   "metadata": {},
   "outputs": [
    {
     "data": {
      "text/plain": [
       "[-1, 1, 3, 6, 9, 10]"
      ]
     },
     "execution_count": 5,
     "metadata": {},
     "output_type": "execute_result"
    }
   ],
   "source": [
    "# Test\n",
    "a = [1,3,6,-1, 9, 10]\n",
    "mergeSort(a)\n",
    "a"
   ]
  },
  {
   "cell_type": "code",
   "execution_count": null,
   "metadata": {},
   "outputs": [],
   "source": []
  },
  {
   "cell_type": "code",
   "execution_count": null,
   "metadata": {},
   "outputs": [],
   "source": []
  }
 ],
 "metadata": {
  "kernelspec": {
   "display_name": "Python 3",
   "language": "python",
   "name": "python3"
  },
  "language_info": {
   "codemirror_mode": {
    "name": "ipython",
    "version": 3
   },
   "file_extension": ".py",
   "mimetype": "text/x-python",
   "name": "python",
   "nbconvert_exporter": "python",
   "pygments_lexer": "ipython3",
   "version": "3.8.5"
  }
 },
 "nbformat": 4,
 "nbformat_minor": 4
}
